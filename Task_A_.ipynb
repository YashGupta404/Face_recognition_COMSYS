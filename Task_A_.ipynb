{
  "nbformat": 4,
  "nbformat_minor": 0,
  "metadata": {
    "colab": {
      "provenance": [],
      "gpuType": "T4"
    },
    "kernelspec": {
      "name": "python3",
      "display_name": "Python 3"
    },
    "language_info": {
      "name": "python"
    },
    "accelerator": "GPU"
  },
  "cells": [
    {
      "cell_type": "code",
      "source": [
        "import numpy as np\n",
        "import os\n",
        "from sklearn.utils.class_weight import compute_class_weight\n",
        "from sklearn.metrics import classification_report, confusion_matrix\n",
        "import matplotlib.pyplot as plt\n",
        "import seaborn as sns\n",
        "\n",
        "from tensorflow.keras.preprocessing.image import ImageDataGenerator\n",
        "from tensorflow.keras.models import Sequential\n",
        "from tensorflow.keras.layers import Conv2D, MaxPooling2D, Flatten, Dense, Dropout, BatchNormalization\n",
        "from tensorflow.keras.optimizers import Adam\n",
        "from tensorflow.keras.callbacks import EarlyStopping, ReduceLROnPlateau\n",
        "from tensorflow.keras.applications import VGG16"
      ],
      "metadata": {
        "id": "11Eg4zMNbX6l"
      },
      "execution_count": 22,
      "outputs": []
    },
    {
      "cell_type": "code",
      "source": [
        "train_dir = '/content/drive/MyDrive/Dataset/Task_A/train'\n",
        "val_dir = '/content/drive/MyDrive/Dataset/Task_A/val'"
      ],
      "metadata": {
        "id": "LufMsZMObPFj"
      },
      "execution_count": 23,
      "outputs": []
    },
    {
      "cell_type": "code",
      "source": [
        "img_height, img_width = 150, 150\n",
        "batch_size = 32\n",
        "epochs_frozen = 10\n",
        "epochs_finetune = 10\n",
        "learning_rate = 1e-4"
      ],
      "metadata": {
        "id": "HqYh37ygcJgA"
      },
      "execution_count": 24,
      "outputs": []
    },
    {
      "cell_type": "code",
      "source": [
        "train_datagen = ImageDataGenerator(\n",
        "    rescale=1./255,\n",
        "    rotation_range=30,\n",
        "    width_shift_range=0.2,\n",
        "    height_shift_range=0.2,\n",
        "    shear_range=0.2,\n",
        "    zoom_range=0.2,\n",
        "    horizontal_flip=True,\n",
        "    fill_mode='nearest'\n",
        ")\n",
        "\n",
        "val_datagen = ImageDataGenerator(rescale=1./255)\n",
        "\n",
        "train_generator = train_datagen.flow_from_directory(\n",
        "    train_dir, target_size=(img_height, img_width),\n",
        "    batch_size=batch_size, class_mode='binary', shuffle=False\n",
        ")\n",
        "\n",
        "val_generator = val_datagen.flow_from_directory(\n",
        "    val_dir, target_size=(img_height, img_width),\n",
        "    batch_size=batch_size, class_mode='binary', shuffle=False\n",
        ")"
      ],
      "metadata": {
        "colab": {
          "base_uri": "https://localhost:8080/"
        },
        "id": "hHU0yRYLbfOG",
        "outputId": "6327de2c-eed0-4934-8da4-eb3a5967850b"
      },
      "execution_count": 25,
      "outputs": [
        {
          "output_type": "stream",
          "name": "stdout",
          "text": [
            "Found 3246 images belonging to 2 classes.\n",
            "Found 422 images belonging to 2 classes.\n"
          ]
        }
      ]
    },
    {
      "cell_type": "code",
      "execution_count": 26,
      "metadata": {
        "id": "y6d0ZZrEbNmi",
        "colab": {
          "base_uri": "https://localhost:8080/"
        },
        "outputId": "1b6ce49b-1405-4359-be02-1cdb4eaa1bff"
      },
      "outputs": [
        {
          "output_type": "stream",
          "name": "stdout",
          "text": [
            "Class Weights: {0: np.float64(1.0), 1: np.float64(1.0)}\n"
          ]
        }
      ],
      "source": [
        "labels = train_generator.classes\n",
        "class_weights = compute_class_weight(class_weight='balanced', classes=np.unique(labels), y=labels)\n",
        "class_weight_dict = dict(enumerate(class_weights))\n",
        "print(\"Class Weights:\", class_weight_dict)\n"
      ]
    },
    {
      "cell_type": "code",
      "source": [
        "base_model = VGG16(weights='imagenet', include_top=False, input_shape=(img_height, img_width, 3))\n",
        "base_model.trainable = False"
      ],
      "metadata": {
        "id": "SkN6bKDObnWM"
      },
      "execution_count": 27,
      "outputs": []
    },
    {
      "cell_type": "code",
      "source": [
        "model = Sequential([\n",
        "    base_model,\n",
        "    Flatten(),\n",
        "    Dense(256, activation='relu'),\n",
        "    Dropout(0.5),\n",
        "    Dense(1, activation='sigmoid')\n",
        "])\n"
      ],
      "metadata": {
        "id": "DLzwKqONcihZ"
      },
      "execution_count": 28,
      "outputs": []
    },
    {
      "cell_type": "code",
      "source": [
        "model.compile(optimizer=Adam(learning_rate=learning_rate),\n",
        "              loss='binary_crossentropy',\n",
        "              metrics=['accuracy'])\n"
      ],
      "metadata": {
        "id": "K0sxbG60clvb"
      },
      "execution_count": 29,
      "outputs": []
    },
    {
      "cell_type": "code",
      "source": [
        "early_stop = EarlyStopping(monitor='val_loss', patience=5, restore_best_weights=True)\n",
        "reduce_lr = ReduceLROnPlateau(monitor='val_loss', factor=0.5, patience=3)"
      ],
      "metadata": {
        "id": "nDqImmqIHt5k"
      },
      "execution_count": 30,
      "outputs": []
    },
    {
      "cell_type": "code",
      "source": [
        "history_frozen = model.fit(\n",
        "    train_generator,\n",
        "    epochs=epochs_frozen,\n",
        "    validation_data=val_generator,\n",
        "    class_weight=class_weight_dict,\n",
        "    callbacks=[early_stop, reduce_lr]\n",
        ")"
      ],
      "metadata": {
        "colab": {
          "base_uri": "https://localhost:8080/"
        },
        "id": "3Lja1sZBHxDS",
        "outputId": "9e91ddb7-83a9-4b51-abdd-686dd886a5c7"
      },
      "execution_count": 31,
      "outputs": [
        {
          "output_type": "stream",
          "name": "stderr",
          "text": [
            "/usr/local/lib/python3.11/dist-packages/keras/src/trainers/data_adapters/py_dataset_adapter.py:121: UserWarning: Your `PyDataset` class should call `super().__init__(**kwargs)` in its constructor. `**kwargs` can include `workers`, `use_multiprocessing`, `max_queue_size`. Do not pass these arguments to `fit()`, as they will be ignored.\n",
            "  self._warn_if_super_not_called()\n"
          ]
        },
        {
          "output_type": "stream",
          "name": "stdout",
          "text": [
            "Epoch 1/10\n",
            "\u001b[1m102/102\u001b[0m \u001b[32m━━━━━━━━━━━━━━━━━━━━\u001b[0m\u001b[37m\u001b[0m \u001b[1m0s\u001b[0m 377ms/step - accuracy: 0.5209 - loss: 0.8525"
          ]
        },
        {
          "output_type": "stream",
          "name": "stderr",
          "text": [
            "/usr/local/lib/python3.11/dist-packages/keras/src/trainers/data_adapters/py_dataset_adapter.py:121: UserWarning: Your `PyDataset` class should call `super().__init__(**kwargs)` in its constructor. `**kwargs` can include `workers`, `use_multiprocessing`, `max_queue_size`. Do not pass these arguments to `fit()`, as they will be ignored.\n",
            "  self._warn_if_super_not_called()\n"
          ]
        },
        {
          "output_type": "stream",
          "name": "stdout",
          "text": [
            "\b\b\b\b\b\b\b\b\b\b\b\b\b\b\b\b\b\b\b\b\b\b\b\b\b\b\b\b\b\b\b\b\b\b\b\b\b\b\b\b\b\b\b\b\b\b\b\b\b\b\b\b\b\b\b\b\b\b\b\b\b\b\b\b\b\b\b\b\b\b\b\b\b\b\b\b\r\u001b[1m102/102\u001b[0m \u001b[32m━━━━━━━━━━━━━━━━━━━━\u001b[0m\u001b[37m\u001b[0m \u001b[1m45s\u001b[0m 420ms/step - accuracy: 0.5219 - loss: 0.8510 - val_accuracy: 0.8673 - val_loss: 0.3241 - learning_rate: 1.0000e-04\n",
            "Epoch 2/10\n",
            "\u001b[1m102/102\u001b[0m \u001b[32m━━━━━━━━━━━━━━━━━━━━\u001b[0m\u001b[37m\u001b[0m \u001b[1m41s\u001b[0m 406ms/step - accuracy: 0.7599 - loss: 0.5000 - val_accuracy: 0.8791 - val_loss: 0.2893 - learning_rate: 1.0000e-04\n",
            "Epoch 3/10\n",
            "\u001b[1m102/102\u001b[0m \u001b[32m━━━━━━━━━━━━━━━━━━━━\u001b[0m\u001b[37m\u001b[0m \u001b[1m40s\u001b[0m 396ms/step - accuracy: 0.8067 - loss: 0.4286 - val_accuracy: 0.8910 - val_loss: 0.2829 - learning_rate: 1.0000e-04\n",
            "Epoch 4/10\n",
            "\u001b[1m102/102\u001b[0m \u001b[32m━━━━━━━━━━━━━━━━━━━━\u001b[0m\u001b[37m\u001b[0m \u001b[1m41s\u001b[0m 405ms/step - accuracy: 0.7993 - loss: 0.4243 - val_accuracy: 0.8981 - val_loss: 0.2780 - learning_rate: 1.0000e-04\n",
            "Epoch 5/10\n",
            "\u001b[1m102/102\u001b[0m \u001b[32m━━━━━━━━━━━━━━━━━━━━\u001b[0m\u001b[37m\u001b[0m \u001b[1m40s\u001b[0m 393ms/step - accuracy: 0.8499 - loss: 0.3462 - val_accuracy: 0.8863 - val_loss: 0.2752 - learning_rate: 1.0000e-04\n",
            "Epoch 6/10\n",
            "\u001b[1m102/102\u001b[0m \u001b[32m━━━━━━━━━━━━━━━━━━━━\u001b[0m\u001b[37m\u001b[0m \u001b[1m42s\u001b[0m 410ms/step - accuracy: 0.8440 - loss: 0.3535 - val_accuracy: 0.8957 - val_loss: 0.2696 - learning_rate: 1.0000e-04\n",
            "Epoch 7/10\n",
            "\u001b[1m102/102\u001b[0m \u001b[32m━━━━━━━━━━━━━━━━━━━━\u001b[0m\u001b[37m\u001b[0m \u001b[1m40s\u001b[0m 388ms/step - accuracy: 0.8539 - loss: 0.3461 - val_accuracy: 0.8863 - val_loss: 0.3006 - learning_rate: 1.0000e-04\n",
            "Epoch 8/10\n",
            "\u001b[1m102/102\u001b[0m \u001b[32m━━━━━━━━━━━━━━━━━━━━\u001b[0m\u001b[37m\u001b[0m \u001b[1m42s\u001b[0m 410ms/step - accuracy: 0.8718 - loss: 0.3095 - val_accuracy: 0.8934 - val_loss: 0.3028 - learning_rate: 1.0000e-04\n",
            "Epoch 9/10\n",
            "\u001b[1m102/102\u001b[0m \u001b[32m━━━━━━━━━━━━━━━━━━━━\u001b[0m\u001b[37m\u001b[0m \u001b[1m40s\u001b[0m 391ms/step - accuracy: 0.8630 - loss: 0.3186 - val_accuracy: 0.9052 - val_loss: 0.2636 - learning_rate: 1.0000e-04\n",
            "Epoch 10/10\n",
            "\u001b[1m102/102\u001b[0m \u001b[32m━━━━━━━━━━━━━━━━━━━━\u001b[0m\u001b[37m\u001b[0m \u001b[1m41s\u001b[0m 391ms/step - accuracy: 0.8716 - loss: 0.2949 - val_accuracy: 0.8934 - val_loss: 0.2798 - learning_rate: 1.0000e-04\n"
          ]
        }
      ]
    },
    {
      "cell_type": "code",
      "source": [
        "for layer in base_model.layers:\n",
        "    if layer.name in ['block5_conv1', 'block5_conv2', 'block5_conv3']:\n",
        "        layer.trainable = True\n",
        "\n",
        "model.compile(optimizer=Adam(learning_rate=learning_rate * 0.1),\n",
        "              loss='binary_crossentropy',\n",
        "              metrics=['accuracy'])\n",
        "\n",
        "# === Train (Fine-Tuning) ===\n",
        "history_finetuned = model.fit(\n",
        "    train_generator,\n",
        "    epochs=epochs_finetune,\n",
        "    validation_data=val_generator,\n",
        "    class_weight=class_weight_dict,\n",
        "    callbacks=[early_stop, reduce_lr]\n",
        ")"
      ],
      "metadata": {
        "colab": {
          "base_uri": "https://localhost:8080/"
        },
        "id": "wDS2GEhlH01M",
        "outputId": "ea9e4996-b8d7-4d82-cfdd-e228f45eb6f5"
      },
      "execution_count": 36,
      "outputs": [
        {
          "output_type": "stream",
          "name": "stdout",
          "text": [
            "Epoch 1/10\n",
            "\u001b[1m102/102\u001b[0m \u001b[32m━━━━━━━━━━━━━━━━━━━━\u001b[0m\u001b[37m\u001b[0m \u001b[1m64s\u001b[0m 579ms/step - accuracy: 0.8728 - loss: 0.3030 - val_accuracy: 0.8744 - val_loss: 0.3905 - learning_rate: 1.0000e-05\n",
            "Epoch 2/10\n",
            "\u001b[1m102/102\u001b[0m \u001b[32m━━━━━━━━━━━━━━━━━━━━\u001b[0m\u001b[37m\u001b[0m \u001b[1m41s\u001b[0m 405ms/step - accuracy: 0.8812 - loss: 0.2783 - val_accuracy: 0.9194 - val_loss: 0.2484 - learning_rate: 1.0000e-05\n",
            "Epoch 3/10\n",
            "\u001b[1m102/102\u001b[0m \u001b[32m━━━━━━━━━━━━━━━━━━━━\u001b[0m\u001b[37m\u001b[0m \u001b[1m42s\u001b[0m 409ms/step - accuracy: 0.9114 - loss: 0.2091 - val_accuracy: 0.8863 - val_loss: 0.4126 - learning_rate: 1.0000e-05\n",
            "Epoch 4/10\n",
            "\u001b[1m102/102\u001b[0m \u001b[32m━━━━━━━━━━━━━━━━━━━━\u001b[0m\u001b[37m\u001b[0m \u001b[1m81s\u001b[0m 399ms/step - accuracy: 0.9066 - loss: 0.2211 - val_accuracy: 0.9076 - val_loss: 0.3060 - learning_rate: 1.0000e-05\n",
            "Epoch 5/10\n",
            "\u001b[1m102/102\u001b[0m \u001b[32m━━━━━━━━━━━━━━━━━━━━\u001b[0m\u001b[37m\u001b[0m \u001b[1m43s\u001b[0m 422ms/step - accuracy: 0.9390 - loss: 0.1567 - val_accuracy: 0.9123 - val_loss: 0.2420 - learning_rate: 1.0000e-05\n",
            "Epoch 6/10\n",
            "\u001b[1m102/102\u001b[0m \u001b[32m━━━━━━━━━━━━━━━━━━━━\u001b[0m\u001b[37m\u001b[0m \u001b[1m44s\u001b[0m 428ms/step - accuracy: 0.9160 - loss: 0.2132 - val_accuracy: 0.8981 - val_loss: 0.3640 - learning_rate: 1.0000e-05\n",
            "Epoch 7/10\n",
            "\u001b[1m102/102\u001b[0m \u001b[32m━━━━━━━━━━━━━━━━━━━━\u001b[0m\u001b[37m\u001b[0m \u001b[1m41s\u001b[0m 400ms/step - accuracy: 0.9319 - loss: 0.1732 - val_accuracy: 0.9218 - val_loss: 0.2570 - learning_rate: 1.0000e-05\n",
            "Epoch 8/10\n",
            "\u001b[1m102/102\u001b[0m \u001b[32m━━━━━━━━━━━━━━━━━━━━\u001b[0m\u001b[37m\u001b[0m \u001b[1m41s\u001b[0m 403ms/step - accuracy: 0.9400 - loss: 0.1410 - val_accuracy: 0.9100 - val_loss: 0.2919 - learning_rate: 1.0000e-05\n",
            "Epoch 9/10\n",
            "\u001b[1m102/102\u001b[0m \u001b[32m━━━━━━━━━━━━━━━━━━━━\u001b[0m\u001b[37m\u001b[0m \u001b[1m42s\u001b[0m 410ms/step - accuracy: 0.9539 - loss: 0.1265 - val_accuracy: 0.9147 - val_loss: 0.3104 - learning_rate: 5.0000e-06\n",
            "Epoch 10/10\n",
            "\u001b[1m102/102\u001b[0m \u001b[32m━━━━━━━━━━━━━━━━━━━━\u001b[0m\u001b[37m\u001b[0m \u001b[1m42s\u001b[0m 412ms/step - accuracy: 0.9601 - loss: 0.1136 - val_accuracy: 0.9123 - val_loss: 0.3266 - learning_rate: 5.0000e-06\n"
          ]
        }
      ]
    },
    {
      "cell_type": "code",
      "source": [
        "def generate_classification_report(generator, title=\"Validation\"):\n",
        "    y_true = generator.classes\n",
        "    y_pred_prob = model.predict(generator)\n",
        "    y_pred = (y_pred_prob > 0.5).astype(int)\n",
        "\n",
        "    print(f\"\\n Classification Report: {title}\")\n",
        "    print(classification_report(y_true, y_pred, target_names=list(generator.class_indices.keys())))\n",
        "\n",
        "    # Confusion Matrix\n",
        "    cm = confusion_matrix(y_true, y_pred)\n",
        "    plt.figure(figsize=(5, 4))\n",
        "    sns.heatmap(cm, annot=True, fmt='d', cmap='Blues',\n",
        "                xticklabels=generator.class_indices.keys(),\n",
        "                yticklabels=generator.class_indices.keys())\n",
        "    plt.title(f'{title} Confusion Matrix')\n",
        "    plt.ylabel('True Label')\n",
        "    plt.xlabel('Predicted Label')\n",
        "    plt.show()\n",
        "\n",
        "# Evaluate on Training & Validation\n",
        "generate_classification_report(train_generator, title=\"Training\")\n",
        "generate_classification_report(val_generator, title=\"Validation\")"
      ],
      "metadata": {
        "colab": {
          "base_uri": "https://localhost:8080/",
          "height": 1000
        },
        "id": "svkVEdetIYWg",
        "outputId": "491275d3-e14d-431a-dabe-da914aa30a57"
      },
      "execution_count": 37,
      "outputs": [
        {
          "output_type": "stream",
          "name": "stdout",
          "text": [
            "\u001b[1m102/102\u001b[0m \u001b[32m━━━━━━━━━━━━━━━━━━━━\u001b[0m\u001b[37m\u001b[0m \u001b[1m38s\u001b[0m 363ms/step\n",
            "\n",
            " Classification Report: Training\n",
            "              precision    recall  f1-score   support\n",
            "\n",
            "      female       0.88      0.99      0.93      1623\n",
            "        male       0.99      0.86      0.92      1623\n",
            "\n",
            "    accuracy                           0.93      3246\n",
            "   macro avg       0.93      0.93      0.93      3246\n",
            "weighted avg       0.93      0.93      0.93      3246\n",
            "\n"
          ]
        },
        {
          "output_type": "display_data",
          "data": {
            "text/plain": [
              "<Figure size 500x400 with 2 Axes>"
            ],
            "image/png": "[encoded data removed]"
          },
          "metadata": {}
        },
        {
          "output_type": "stream",
          "name": "stdout",
          "text": [
            "\u001b[1m14/14\u001b[0m \u001b[32m━━━━━━━━━━━━━━━━━━━━\u001b[0m\u001b[37m\u001b[0m \u001b[1m3s\u001b[0m 230ms/step\n",
            "\n",
            " Classification Report: Validation\n",
            "              precision    recall  f1-score   support\n",
            "\n",
            "      female       0.78      0.73      0.76        79\n",
            "        male       0.94      0.95      0.95       343\n",
            "\n",
            "    accuracy                           0.91       422\n",
            "   macro avg       0.86      0.84      0.85       422\n",
            "weighted avg       0.91      0.91      0.91       422\n",
            "\n"
          ]
        },
        {
          "output_type": "display_data",
          "data": {
            "text/plain": [
              "<Figure size 500x400 with 2 Axes>"
            ],
            "image/png": "[encoded data removed]"
          },
          "metadata": {}
        }
      ]
    },
    {
      "cell_type": "code",
      "source": [],
      "metadata": {
        "id": "CRtoOFOPIp0e"
      },
      "execution_count": null,
      "outputs": []
    },
    {
      "cell_type": "code",
      "metadata": {
        "id": "058ce593"
      },
      "source": [
        "model.save('image_classification_model.h5')\n",
        "print(\"Model saved successfully!\")"
      ],
      "execution_count": null,
      "outputs": []
    },
    {
      "cell_type": "code",
      "source": [
        "\n",
        "# Save the trained model to Google Drive\n",
        "from google.colab import drive\n",
        "\n",
        "# Mount Google Drive\n",
        "drive.mount('/content/drive')\n",
        "\n",
        "# Define the path to save the model in your Google Drive\n",
        "save_path = '/content/drive/MyDrive/trained file/Task_A_.keras' # You can change the filename\n",
        "\n",
        "# Save the model\n",
        "model.save(save_path)\n",
        "\n",
        "print(f\"Model saved successfully to: {save_path}\")"
      ],
      "metadata": {
        "colab": {
          "base_uri": "https://localhost:8080/"
        },
        "id": "LK3lERTWLyrz",
        "outputId": "ec3a9883-89e2-4e0b-af81-e837741175c3"
      },
      "execution_count": 38,
      "outputs": [
        {
          "output_type": "stream",
          "name": "stdout",
          "text": [
            "Drive already mounted at /content/drive; to attempt to forcibly remount, call drive.mount(\"/content/drive\", force_remount=True).\n",
            "Model saved successfully to: /content/drive/MyDrive/trained file/Task_A_.keras\n"
          ]
        }
      ]
    }
  ]
}